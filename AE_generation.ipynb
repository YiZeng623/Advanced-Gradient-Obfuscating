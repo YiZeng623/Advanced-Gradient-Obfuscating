{
 "cells": [
  {
   "cell_type": "code",
   "execution_count": 2,
   "metadata": {
    "ExecuteTime": {
     "end_time": "2020-05-05T14:12:13.373506Z",
     "start_time": "2020-05-05T14:12:13.369258Z"
    }
   },
   "outputs": [],
   "source": [
    "import os\n",
    "os.environ[\"CUDA_VISIBLE_DEVICES\"] = '0'\n",
    "os.environ[\"TF_CPP_MIN_LOG_LEVEL\"] = '2'"
   ]
  },
  {
   "cell_type": "code",
   "execution_count": 3,
   "metadata": {
    "ExecuteTime": {
     "end_time": "2020-05-05T14:12:15.884182Z",
     "start_time": "2020-05-05T14:12:13.818173Z"
    }
   },
   "outputs": [
    {
     "name": "stdout",
     "output_type": "stream",
     "text": [
      "WARNING:tensorflow:From /home/stanislas/anaconda3/lib/python3.7/site-packages/cleverhans/utils_tf.py:341: The name tf.GraphKeys is deprecated. Please use tf.compat.v1.GraphKeys instead.\n",
      "\n"
     ]
    },
    {
     "name": "stderr",
     "output_type": "stream",
     "text": [
      "Using TensorFlow backend.\n"
     ]
    }
   ],
   "source": [
    "import random\n",
    "import numpy as np\n",
    "import tensorflow as tf\n",
    "import matplotlib.pyplot as plt\n",
    "\n",
    "from cleverhans import attacks\n",
    "from cleverhans import utils, utils_tf, utils_keras\n",
    "\n",
    "config = tf.ConfigProto(gpu_options=tf.GPUOptions(allow_growth=True))\n",
    "sess = tf.Session(config=config)"
   ]
  },
  {
   "cell_type": "code",
   "execution_count": 4,
   "metadata": {
    "ExecuteTime": {
     "end_time": "2020-05-05T14:12:16.716497Z",
     "start_time": "2020-05-05T14:12:15.887246Z"
    }
   },
   "outputs": [],
   "source": [
    "from cleverhans.model import Model\n",
    "from tensorflow.contrib import slim\n",
    "from tensorflow.contrib.slim.nets import inception"
   ]
  },
  {
   "cell_type": "markdown",
   "metadata": {},
   "source": [
    "# Data"
   ]
  },
  {
   "cell_type": "code",
   "execution_count": 5,
   "metadata": {
    "ExecuteTime": {
     "end_time": "2020-05-05T14:12:16.884539Z",
     "start_time": "2020-05-05T14:12:16.718487Z"
    }
   },
   "outputs": [],
   "source": [
    "cleandata = np.load(\"./data/clean100data.npy\").astype(np.float32)\n",
    "cleanlabel = np.load(\"./data/clean100label.npy\")\n",
    "targets = np.load(\"./data/random_targets.npy\")"
   ]
  },
  {
   "cell_type": "code",
   "execution_count": 6,
   "metadata": {
    "ExecuteTime": {
     "end_time": "2020-05-05T14:12:16.889292Z",
     "start_time": "2020-05-05T14:12:16.886467Z"
    }
   },
   "outputs": [],
   "source": [
    "targets_expanded = np.concatenate([np.zeros((100, 1)), targets], axis=1)"
   ]
  },
  {
   "cell_type": "markdown",
   "metadata": {},
   "source": [
    "# Tensorflow inception v3"
   ]
  },
  {
   "cell_type": "code",
   "execution_count": 7,
   "metadata": {
    "ExecuteTime": {
     "end_time": "2020-05-05T14:12:16.897458Z",
     "start_time": "2020-05-05T14:12:16.890559Z"
    }
   },
   "outputs": [],
   "source": [
    "tf.flags.DEFINE_string(\n",
    "    'checkpoint_path',\n",
    "    './data/inception_v3.ckpt', 'Path to checkpoint for inception network.')"
   ]
  },
  {
   "cell_type": "code",
   "execution_count": 8,
   "metadata": {
    "ExecuteTime": {
     "end_time": "2020-05-05T14:12:16.905281Z",
     "start_time": "2020-05-05T14:12:16.898882Z"
    }
   },
   "outputs": [],
   "source": [
    "FLAGS = tf.flags.FLAGS\n",
    "tf.app.flags.DEFINE_string('f', '', 'kernel') "
   ]
  },
  {
   "cell_type": "code",
   "execution_count": 9,
   "metadata": {
    "ExecuteTime": {
     "end_time": "2020-05-05T14:12:16.916758Z",
     "start_time": "2020-05-05T14:12:16.907018Z"
    }
   },
   "outputs": [],
   "source": [
    "class InceptionModel(Model):\n",
    "    \"\"\"Model class for CleverHans library.\"\"\"\n",
    "\n",
    "    def __init__(self, nb_classes):\n",
    "        super(InceptionModel, self).__init__(nb_classes=nb_classes,\n",
    "                                             needs_dummy_fprop=True)\n",
    "        self.built = False\n",
    "\n",
    "    def __call__(self, x_input, return_logits=False):\n",
    "        \"\"\"Constructs model and return probabilities for given input.\"\"\"\n",
    "        reuse = True if self.built else None\n",
    "        with slim.arg_scope(inception.inception_v3_arg_scope()):\n",
    "            x_input = x_input * 2.0 - 1.0\n",
    "            _, end_points = inception.inception_v3(\n",
    "                x_input, num_classes=self.nb_classes, is_training=False,\n",
    "                reuse=reuse)\n",
    "        self.built = True\n",
    "        self.logits = end_points['Logits']\n",
    "        # Strip off the extra reshape op at the output\n",
    "        self.probs = end_points['Predictions'].op.inputs[0]\n",
    "        if return_logits:\n",
    "            return self.logits\n",
    "        else:\n",
    "            return self.probs\n",
    "\n",
    "    def get_logits(self, x_input):\n",
    "        return self(x_input, return_logits=True)\n",
    "\n",
    "    def get_probs(self, x_input):\n",
    "        return self(x_input)"
   ]
  },
  {
   "cell_type": "code",
   "execution_count": 10,
   "metadata": {
    "ExecuteTime": {
     "end_time": "2020-05-05T14:12:16.921797Z",
     "start_time": "2020-05-05T14:12:16.918655Z"
    }
   },
   "outputs": [],
   "source": [
    "def _top_1_accuracy(logits, labels):\n",
    "    return tf.reduce_mean(tf.cast(tf.nn.in_top_k(logits[:, 1:], labels, 1), tf.float32))"
   ]
  },
  {
   "cell_type": "code",
   "execution_count": 11,
   "metadata": {
    "ExecuteTime": {
     "end_time": "2020-05-05T14:12:26.979023Z",
     "start_time": "2020-05-05T14:12:16.923277Z"
    }
   },
   "outputs": [
    {
     "name": "stdout",
     "output_type": "stream",
     "text": [
      "WARNING:tensorflow:From /home/stanislas/anaconda3/lib/python3.7/site-packages/tensorflow/python/ops/array_ops.py:1354: add_dispatch_support.<locals>.wrapper (from tensorflow.python.ops.array_ops) is deprecated and will be removed in a future version.\n",
      "Instructions for updating:\n",
      "Use tf.where in 2.0, which has the same broadcast rule as np.where\n",
      "INFO:tensorflow:Graph was finalized.\n",
      "WARNING:tensorflow:From /home/stanislas/anaconda3/lib/python3.7/site-packages/tensorflow/python/training/saver.py:1276: checkpoint_exists (from tensorflow.python.training.checkpoint_management) is deprecated and will be removed in a future version.\n",
      "Instructions for updating:\n",
      "Use standard file APIs to check for files with this prefix.\n",
      "INFO:tensorflow:Restoring parameters from ./data/inception_v3.ckpt\n",
      "INFO:tensorflow:Running local_init_op.\n",
      "INFO:tensorflow:Done running local_init_op.\n",
      "INFO:tensorflow:Accuracy: 1.0\n"
     ]
    }
   ],
   "source": [
    "with tf.Graph().as_default():\n",
    "    x_input = tf.placeholder(tf.float32, shape=(None, 299, 299, 3))\n",
    "    y_label = tf.placeholder(tf.int32, shape=(None,))\n",
    "    model = InceptionModel(nb_classes=1001)\n",
    "    logits = model.get_logits(x_input)\n",
    "    acc = _top_1_accuracy(logits, y_label)\n",
    "\n",
    "    saver = tf.train.Saver(slim.get_model_variables())\n",
    "\n",
    "    session_creator = tf.train.ChiefSessionCreator(\n",
    "        scaffold=tf.train.Scaffold(saver=saver),\n",
    "        checkpoint_filename_with_path=FLAGS.checkpoint_path)\n",
    "\n",
    "    with tf.train.MonitoredSession(session_creator=session_creator) as sess:\n",
    "        acc_val = sess.run(acc, feed_dict={x_input: cleandata, y_label: cleanlabel})\n",
    "        tf.logging.info('Accuracy: %s', acc_val)"
   ]
  },
  {
   "cell_type": "markdown",
   "metadata": {},
   "source": [
    "# Generate AEs"
   ]
  },
  {
   "cell_type": "code",
   "execution_count": 12,
   "metadata": {
    "ExecuteTime": {
     "end_time": "2020-05-05T14:12:26.984706Z",
     "start_time": "2020-05-05T14:12:26.981182Z"
    }
   },
   "outputs": [],
   "source": [
    "def getabatch(dataset,labelset,numbatch,batchsize):\n",
    "    databatch = dataset[numbatch*batchsize:(numbatch*batchsize+batchsize)]\n",
    "    labelbatch = labelset[numbatch*batchsize:(numbatch*batchsize+batchsize)]\n",
    "    return databatch,labelbatch"
   ]
  },
  {
   "cell_type": "code",
   "execution_count": 13,
   "metadata": {
    "ExecuteTime": {
     "end_time": "2020-05-05T14:12:26.997977Z",
     "start_time": "2020-05-05T14:12:26.986326Z"
    }
   },
   "outputs": [],
   "source": [
    "def get_random_targets(label):\n",
    "    targets = label.copy()\n",
    "    nb_samples = label.shape[0]\n",
    "    nb_classes = label.shape[1]\n",
    "\n",
    "    for i in range(nb_samples):\n",
    "        targets[i, :] = np.roll(targets[i, :], random.randint(1, nb_classes - 1))\n",
    "\n",
    "    return targets"
   ]
  },
  {
   "cell_type": "code",
   "execution_count": 14,
   "metadata": {
    "ExecuteTime": {
     "end_time": "2020-05-05T14:12:27.003823Z",
     "start_time": "2020-05-05T14:12:26.999704Z"
    }
   },
   "outputs": [],
   "source": [
    "def one_hot(raw_label):\n",
    "    nb_samples = len(raw_label)\n",
    "    nb_classes = 1000\n",
    "    label = np.zeros((nb_samples, nb_classes))\n",
    "    for i in range(nb_samples):\n",
    "        label[i, raw_label[i]] = 1\n",
    "        \n",
    "    return label"
   ]
  },
  {
   "cell_type": "markdown",
   "metadata": {},
   "source": [
    "# FGSM"
   ]
  },
  {
   "cell_type": "code",
   "execution_count": 15,
   "metadata": {
    "ExecuteTime": {
     "end_time": "2020-05-05T13:54:39.746140Z",
     "start_time": "2020-05-05T13:54:39.742032Z"
    }
   },
   "outputs": [],
   "source": [
    "eps = 0.01\n",
    "order = np.inf"
   ]
  },
  {
   "cell_type": "code",
   "execution_count": 16,
   "metadata": {
    "ExecuteTime": {
     "end_time": "2020-05-05T13:54:51.666133Z",
     "start_time": "2020-05-05T13:54:39.747996Z"
    }
   },
   "outputs": [
    {
     "name": "stdout",
     "output_type": "stream",
     "text": [
      "WARNING:tensorflow:From /home/stanislas/anaconda3/lib/python3.7/site-packages/cleverhans/utils_tf.py:624: The name tf.assert_greater_equal is deprecated. Please use tf.compat.v1.assert_greater_equal instead.\n",
      "\n",
      "WARNING:tensorflow:From /home/stanislas/anaconda3/lib/python3.7/site-packages/cleverhans/utils_tf.py:615: The name tf.assert_less_equal is deprecated. Please use tf.compat.v1.assert_less_equal instead.\n",
      "\n",
      "WARNING:tensorflow:From /home/stanislas/anaconda3/lib/python3.7/site-packages/cleverhans/compat.py:124: calling softmax_cross_entropy_with_logits_v2_helper (from tensorflow.python.ops.nn_ops) with dim is deprecated and will be removed in a future version.\n",
      "Instructions for updating:\n",
      "dim is deprecated, use axis instead\n",
      "INFO:tensorflow:Graph was finalized.\n",
      "INFO:tensorflow:Restoring parameters from ./data/inception_v3.ckpt\n",
      "INFO:tensorflow:Running local_init_op.\n",
      "INFO:tensorflow:Done running local_init_op.\n"
     ]
    }
   ],
   "source": [
    "with tf.Graph().as_default():\n",
    "    x_input = tf.placeholder(tf.float32, shape=(None, 299, 299, 3))\n",
    "    y_label = tf.placeholder(tf.int32, shape=(None,))\n",
    "    model = InceptionModel(nb_classes=1001)\n",
    "    logits = model.get_logits(x_input)\n",
    "    acc = _top_1_accuracy(logits, y_label)\n",
    "    \n",
    "    fgsm_params = {'y_target': targets_expanded, 'eps': eps,\n",
    "                   'ord': order, 'clip_min': 0., 'clip_max': 1.}\n",
    "    fgsm = attacks.FastGradientMethod(model)\n",
    "    # adv_fgsm = np.copy(cleandata)\n",
    "    adv_fgsm = fgsm.generate(x_input, **fgsm_params)\n",
    "\n",
    "    saver = tf.train.Saver(slim.get_model_variables())\n",
    "\n",
    "    session_creator = tf.train.ChiefSessionCreator(\n",
    "        scaffold=tf.train.Scaffold(saver=saver),\n",
    "        checkpoint_filename_with_path=FLAGS.checkpoint_path)\n",
    "\n",
    "    with tf.train.MonitoredSession(session_creator=session_creator) as sess:\n",
    "        adv_image = sess.run(adv_fgsm, feed_dict={x_input: cleandata})"
   ]
  },
  {
   "cell_type": "code",
   "execution_count": 17,
   "metadata": {
    "ExecuteTime": {
     "end_time": "2020-05-05T13:54:51.750548Z",
     "start_time": "2020-05-05T13:54:51.669012Z"
    }
   },
   "outputs": [],
   "source": [
    "np.save(\"./AE/FGSM_001_AE_data.npy\", adv_image)"
   ]
  },
  {
   "cell_type": "markdown",
   "metadata": {},
   "source": [
    "# BIM"
   ]
  },
  {
   "cell_type": "code",
   "execution_count": 18,
   "metadata": {
    "ExecuteTime": {
     "end_time": "2020-05-05T13:54:51.755121Z",
     "start_time": "2020-05-05T13:54:51.752407Z"
    }
   },
   "outputs": [],
   "source": [
    "eps = 0.01\n",
    "order = np.inf"
   ]
  },
  {
   "cell_type": "code",
   "execution_count": 19,
   "metadata": {
    "ExecuteTime": {
     "end_time": "2020-05-05T13:55:09.798612Z",
     "start_time": "2020-05-05T13:54:51.756694Z"
    }
   },
   "outputs": [
    {
     "name": "stdout",
     "output_type": "stream",
     "text": [
      "INFO:tensorflow:Graph was finalized.\n",
      "INFO:tensorflow:Restoring parameters from ./data/inception_v3.ckpt\n",
      "INFO:tensorflow:Running local_init_op.\n",
      "INFO:tensorflow:Done running local_init_op.\n"
     ]
    }
   ],
   "source": [
    "with tf.Graph().as_default():\n",
    "    x_input = tf.placeholder(tf.float32, shape=(None, 299, 299, 3))\n",
    "    y_label = tf.placeholder(tf.int32, shape=(None,))\n",
    "    model = InceptionModel(nb_classes=1001)\n",
    "    logits = model.get_logits(x_input)\n",
    "    acc = _top_1_accuracy(logits, y_label)\n",
    "    \n",
    "    ifgsm_params = {'y_target':targets_expanded, 'eps': eps, 'eps_iter': eps / 10,\n",
    "                'ord': order, 'clip_min': 0., 'clip_max': 1.}\n",
    "    ifgsm = attacks.BasicIterativeMethod(model)\n",
    "    adv = ifgsm.generate(x_input, **ifgsm_params)\n",
    "\n",
    "    saver = tf.train.Saver(slim.get_model_variables())\n",
    "\n",
    "    session_creator = tf.train.ChiefSessionCreator(\n",
    "        scaffold=tf.train.Scaffold(saver=saver),\n",
    "        checkpoint_filename_with_path=FLAGS.checkpoint_path)\n",
    "\n",
    "    with tf.train.MonitoredSession(session_creator=session_creator) as sess:\n",
    "        adv_image = sess.run(adv, feed_dict={x_input: cleandata})"
   ]
  },
  {
   "cell_type": "code",
   "execution_count": 20,
   "metadata": {
    "ExecuteTime": {
     "end_time": "2020-05-05T13:55:09.875076Z",
     "start_time": "2020-05-05T13:55:09.801061Z"
    }
   },
   "outputs": [],
   "source": [
    "np.save(\"./AE/IFGSM_001_AE_data.npy\", adv_image)"
   ]
  },
  {
   "cell_type": "markdown",
   "metadata": {},
   "source": [
    "# LBFGS"
   ]
  },
  {
   "cell_type": "code",
   "execution_count": null,
   "metadata": {
    "ExecuteTime": {
     "start_time": "2020-05-05T13:33:35.649Z"
    }
   },
   "outputs": [
    {
     "name": "stdout",
     "output_type": "stream",
     "text": [
      "INFO:tensorflow:Restoring parameters from ./data/inception_v3.ckpt\n"
     ]
    },
    {
     "name": "stderr",
     "output_type": "stream",
     "text": [
      "[INFO 2020-05-05 21:33:39,285 cleverhans] Constructing new graph for attack LBFGS\n"
     ]
    }
   ],
   "source": [
    "with tf.Graph().as_default():\n",
    "    x_input = tf.placeholder(tf.float32, shape=(None, 299, 299, 3))\n",
    "    y_label = tf.placeholder(tf.int32, shape=(None,))\n",
    "    model = InceptionModel(nb_classes=1001)\n",
    "    logits = model.get_logits(x_input)\n",
    "    acc = _top_1_accuracy(logits, y_label)\n",
    "    \n",
    "    lbfgs_params = {'y_target': targets_expanded, 'batch_size':100,\n",
    "                'binary_search_steps': 4, 'max_iterations': 1000,\n",
    "                'clip_min': 0., 'clip_max': 1.}\n",
    "\n",
    "    saver = tf.train.Saver(slim.get_model_variables())\n",
    "\n",
    "    session_creator = tf.train.ChiefSessionCreator(\n",
    "        scaffold=tf.train.Scaffold(saver=saver),\n",
    "        checkpoint_filename_with_path=FLAGS.checkpoint_path)\n",
    "    \n",
    "    # with tf.train.MonitoredSession(session_creator=session_creator) as sess:\n",
    "    with tf.Session() as sess:\n",
    "        saver.restore(sess, FLAGS.checkpoint_path)\n",
    "        lbfgs = attacks.LBFGS(model, sess)\n",
    "        adv = np.copy(cleandata)\n",
    "        adv = lbfgs.generate_np(adv, **lbfgs_params)\n",
    "        # adv_image = sess.run(adv, feed_dict={x_input: cleandata})"
   ]
  },
  {
   "cell_type": "code",
   "execution_count": 33,
   "metadata": {
    "ExecuteTime": {
     "end_time": "2020-05-03T09:58:25.012276Z",
     "start_time": "2020-05-03T09:58:24.907277Z"
    }
   },
   "outputs": [],
   "source": [
    "np.save(\"./AE/LBFGS_AE_data.npy\",adv)"
   ]
  },
  {
   "cell_type": "markdown",
   "metadata": {},
   "source": [
    "# CW"
   ]
  },
  {
   "cell_type": "code",
   "execution_count": null,
   "metadata": {
    "ExecuteTime": {
     "start_time": "2020-05-05T13:38:39.056Z"
    }
   },
   "outputs": [
    {
     "name": "stdout",
     "output_type": "stream",
     "text": [
      "INFO:tensorflow:Restoring parameters from ./data/inception_v3.ckpt\n"
     ]
    },
    {
     "name": "stderr",
     "output_type": "stream",
     "text": [
      "[INFO 2020-05-05 21:38:43,615 cleverhans] Constructing new graph for attack CarliniWagnerL2\n"
     ]
    },
    {
     "name": "stdout",
     "output_type": "stream",
     "text": [
      "WARNING:tensorflow:From /home/stanislas/anaconda3/lib/python3.7/site-packages/cleverhans/attacks_tf.py:654: The name tf.global_variables is deprecated. Please use tf.compat.v1.global_variables instead.\n",
      "\n",
      "WARNING:tensorflow:From /home/stanislas/anaconda3/lib/python3.7/site-packages/cleverhans/attacks_tf.py:655: The name tf.train.AdamOptimizer is deprecated. Please use tf.compat.v1.train.AdamOptimizer instead.\n",
      "\n",
      "WARNING:tensorflow:From /home/stanislas/anaconda3/lib/python3.7/site-packages/cleverhans/attacks_tf.py:666: The name tf.variables_initializer is deprecated. Please use tf.compat.v1.variables_initializer instead.\n",
      "\n",
      "WARNING:tensorflow:From /home/stanislas/anaconda3/lib/python3.7/site-packages/cleverhans/attacks/__init__.py:1201: py_func (from tensorflow.python.ops.script_ops) is deprecated and will be removed in a future version.\n",
      "Instructions for updating:\n",
      "tf.py_func is deprecated in TF V2. Instead, there are two\n",
      "    options available in V2.\n",
      "    - tf.py_function takes a python function which manipulates tf eager\n",
      "    tensors instead of numpy arrays. It's easy to convert a tf eager tensor to\n",
      "    an ndarray (just call tensor.numpy()) but having access to eager tensors\n",
      "    means `tf.py_function`s can use accelerators such as GPUs as well as\n",
      "    being differentiable using a gradient tape.\n",
      "    - tf.numpy_function maintains the semantics of the deprecated tf.py_func\n",
      "    (it is not differentiable, and manipulates numpy arrays). It drops the\n",
      "    stateful argument making all functions stateful.\n",
      "    \n"
     ]
    },
    {
     "name": "stderr",
     "output_type": "stream",
     "text": [
      "/home/stanislas/anaconda3/lib/python3.7/site-packages/numpy/core/fromnumeric.py:3335: RuntimeWarning: Mean of empty slice.\n",
      "  out=out, **kwargs)\n",
      "/home/stanislas/anaconda3/lib/python3.7/site-packages/numpy/core/_methods.py:161: RuntimeWarning: invalid value encountered in double_scalars\n",
      "  ret = ret.dtype.type(ret / rcount)\n"
     ]
    }
   ],
   "source": [
    "with tf.Graph().as_default():\n",
    "    x_input = tf.placeholder(tf.float32, shape=(None, 299, 299, 3))\n",
    "    y_label = tf.placeholder(tf.int32, shape=(None,))\n",
    "    model = InceptionModel(nb_classes=1001)\n",
    "    logits = model.get_logits(x_input)\n",
    "    acc = _top_1_accuracy(logits, y_label)\n",
    "\n",
    "    saver = tf.train.Saver(slim.get_model_variables())\n",
    "    \n",
    "    # with tf.train.MonitoredSession(session_creator=session_creator) as sess:\n",
    "    with tf.Session() as sess:\n",
    "        saver.restore(sess, FLAGS.checkpoint_path)\n",
    "        cw = attacks.CarliniWagnerL2(model, sess)\n",
    "        # carlini and wagner\n",
    "        cw_params = {'y_target': targets_expanded,\n",
    "                     'batch_size': 100,\n",
    "                     'confidence': 10,\n",
    "                     'learning_rate': 0.1,\n",
    "                     'binary_search_steps': 5,\n",
    "                     'max_iterations': 1000,\n",
    "                     'abort_early': True,\n",
    "                     'initial_const': 0.01,\n",
    "                     'clip_min': 0,\n",
    "                     'clip_max': 1}\n",
    "        \n",
    "        adv = np.copy(cleandata)\n",
    "        adv = cw.generate_np(adv, **cw_params)"
   ]
  },
  {
   "cell_type": "code",
   "execution_count": null,
   "metadata": {
    "ExecuteTime": {
     "start_time": "2020-05-05T13:38:39.718Z"
    }
   },
   "outputs": [],
   "source": [
    "np.save(\"./AE/CW_AE_data.npy\",adv)"
   ]
  },
  {
   "cell_type": "markdown",
   "metadata": {},
   "source": [
    "# Deepfool"
   ]
  },
  {
   "cell_type": "code",
   "execution_count": 18,
   "metadata": {
    "ExecuteTime": {
     "end_time": "2020-05-05T13:49:47.281989Z",
     "start_time": "2020-05-05T13:48:06.936540Z"
    }
   },
   "outputs": [
    {
     "name": "stdout",
     "output_type": "stream",
     "text": [
      "INFO:tensorflow:Restoring parameters from ./data/inception_v3.ckpt\n"
     ]
    },
    {
     "name": "stderr",
     "output_type": "stream",
     "text": [
      "[INFO 2020-05-05 21:48:10,704 cleverhans] Constructing new graph for attack DeepFool\n",
      "[INFO 2020-05-05 21:48:35,319 cleverhans] Attack result at iteration 5 is [531 128  99 662 252 172 818 609 772 491]\n",
      "[INFO 2020-05-05 21:48:37,077 cleverhans] Attack result at iteration 7 is [531 129  99 662 252 172 818 465 772 748]\n",
      "[INFO 2020-05-05 21:48:37,082 cleverhans] 10 out of 10 become adversarial examples at iteration 7\n",
      "[INFO 2020-05-05 21:48:41,768 cleverhans] Attack result at iteration 5 is [298 723 251 594 378 887 705 507 921 706]\n",
      "[INFO 2020-05-05 21:48:46,039 cleverhans] Attack result at iteration 10 is [298 753 251 594 378 632 911 507 921 706]\n",
      "[INFO 2020-05-05 21:48:46,044 cleverhans] 10 out of 10 become adversarial examples at iteration 10\n",
      "[INFO 2020-05-05 21:48:50,705 cleverhans] Attack result at iteration 5 is [ 45 955 667 582 205 218 275 140 319 639]\n",
      "[INFO 2020-05-05 21:48:50,708 cleverhans] 10 out of 10 become adversarial examples at iteration 5\n",
      "[INFO 2020-05-05 21:48:55,471 cleverhans] Attack result at iteration 5 is [ 342  265  420  849 1000   19   14  831  889  793]\n",
      "[INFO 2020-05-05 21:48:59,771 cleverhans] Attack result at iteration 10 is [ 342  265  420  849 1000   19  138  831  450  793]\n",
      "[INFO 2020-05-05 21:49:02,316 cleverhans] Attack result at iteration 13 is [ 342  265  420  849 1000  144  138  831  450  793]\n",
      "[INFO 2020-05-05 21:49:02,318 cleverhans] 10 out of 10 become adversarial examples at iteration 13\n",
      "[INFO 2020-05-05 21:49:06,939 cleverhans] Attack result at iteration 5 is [ 86 641 243 553 155 846 270 206 373 190]\n",
      "[INFO 2020-05-05 21:49:08,647 cleverhans] Attack result at iteration 7 is [ 86 117 243 553 153 684 270 206 373 190]\n",
      "[INFO 2020-05-05 21:49:08,649 cleverhans] 10 out of 10 become adversarial examples at iteration 7\n",
      "[INFO 2020-05-05 21:49:13,139 cleverhans] Attack result at iteration 5 is [690 370 416 912 109 322 392 985 850 941]\n",
      "[INFO 2020-05-05 21:49:13,968 cleverhans] Attack result at iteration 6 is [690 370 416 912 109 322 392 991 850 941]\n",
      "[INFO 2020-05-05 21:49:13,969 cleverhans] 10 out of 10 become adversarial examples at iteration 6\n",
      "[INFO 2020-05-05 21:49:18,638 cleverhans] Attack result at iteration 5 is [458 219  19   6 996 985 430 371 153 334]\n",
      "[INFO 2020-05-05 21:49:22,059 cleverhans] Attack result at iteration 9 is [544 219  19   6 847 985 430 371 153 715]\n",
      "[INFO 2020-05-05 21:49:22,061 cleverhans] 10 out of 10 become adversarial examples at iteration 9\n",
      "[INFO 2020-05-05 21:49:26,745 cleverhans] Attack result at iteration 5 is [320 129 197 465  79 159  78 341 951 541]\n",
      "[INFO 2020-05-05 21:49:31,023 cleverhans] Attack result at iteration 10 is [320 129 197 465  79 159  78 341 951 518]\n",
      "[INFO 2020-05-05 21:49:31,876 cleverhans] Attack result at iteration 11 is [320 129 197 465  79 159  78 903 951 518]\n",
      "[INFO 2020-05-05 21:49:31,878 cleverhans] 10 out of 10 become adversarial examples at iteration 11\n",
      "[INFO 2020-05-05 21:49:36,397 cleverhans] Attack result at iteration 5 is [590 364  63 887  89 530 187 451 587 107]\n",
      "[INFO 2020-05-05 21:49:39,116 cleverhans] Attack result at iteration 8 is [586 364  63 887  91 530 187 803 848 107]\n",
      "[INFO 2020-05-05 21:49:39,118 cleverhans] 10 out of 10 become adversarial examples at iteration 8\n",
      "[INFO 2020-05-05 21:49:43,698 cleverhans] Attack result at iteration 5 is [535 684 220 248 264 520 701 600 771 595]\n",
      "[INFO 2020-05-05 21:49:47,104 cleverhans] Attack result at iteration 9 is [535 684 220 256 264 520 701 411 789 882]\n",
      "[INFO 2020-05-05 21:49:47,106 cleverhans] 10 out of 10 become adversarial examples at iteration 9\n"
     ]
    }
   ],
   "source": [
    "with tf.Graph().as_default():\n",
    "    x_input = tf.placeholder(tf.float32, shape=(None, 299, 299, 3))\n",
    "    y_label = tf.placeholder(tf.int32, shape=(None,))\n",
    "    model = InceptionModel(nb_classes=1001)\n",
    "    logits = model.get_logits(x_input)\n",
    "    acc = _top_1_accuracy(logits, y_label)\n",
    "\n",
    "    saver = tf.train.Saver(slim.get_model_variables())\n",
    "    \n",
    "    # with tf.train.MonitoredSession(session_creator=session_creator) as sess:\n",
    "    with tf.Session() as sess:\n",
    "        saver.restore(sess, FLAGS.checkpoint_path)\n",
    "        deepfool_params = {'nb_candidate': 10, 'overshoot': 0.02, 'clip_min': 0., 'clip_max': 1.}\n",
    "        deepfool = attacks.DeepFool(model, sess)\n",
    "        totalbatch = 10\n",
    "        batchsize = 10\n",
    "\n",
    "        adv = np.copy(cleandata)\n",
    "        \n",
    "        for numbatch in range(totalbatch):\n",
    "            adv_df_batch,labelbatch = getabatch(adv,cleanlabel,numbatch,batchsize)\n",
    "            adv_df_batch = deepfool.generate_np(adv_df_batch, **deepfool_params)\n",
    "            adv[numbatch*batchsize:(numbatch*batchsize+batchsize)] = adv_df_batch"
   ]
  },
  {
   "cell_type": "code",
   "execution_count": 19,
   "metadata": {
    "ExecuteTime": {
     "end_time": "2020-05-05T13:49:47.353630Z",
     "start_time": "2020-05-05T13:49:47.284238Z"
    }
   },
   "outputs": [],
   "source": [
    "np.save(\"./AE/Deepfool_AE_data.npy\", adv)"
   ]
  }
 ],
 "metadata": {
  "kernelspec": {
   "display_name": "Python 3",
   "language": "python",
   "name": "python3"
  },
  "language_info": {
   "codemirror_mode": {
    "name": "ipython",
    "version": 3
   },
   "file_extension": ".py",
   "mimetype": "text/x-python",
   "name": "python",
   "nbconvert_exporter": "python",
   "pygments_lexer": "ipython3",
   "version": "3.7.4"
  },
  "toc": {
   "base_numbering": 1,
   "nav_menu": {},
   "number_sections": true,
   "sideBar": true,
   "skip_h1_title": false,
   "title_cell": "Table of Contents",
   "title_sidebar": "Contents",
   "toc_cell": false,
   "toc_position": {},
   "toc_section_display": true,
   "toc_window_display": false
  }
 },
 "nbformat": 4,
 "nbformat_minor": 2
}
