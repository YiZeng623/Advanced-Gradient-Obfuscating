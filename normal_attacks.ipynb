{
 "cells": [
  {
   "cell_type": "code",
   "execution_count": 3,
   "metadata": {
    "ExecuteTime": {
     "end_time": "2020-05-06T16:20:10.783884Z",
     "start_time": "2020-05-06T16:20:08.102891Z"
    }
   },
   "outputs": [],
   "source": [
    "from defense_core import *\n",
    "from defense_compare import *\n",
    "from utils import *\n",
    "import inceptionv3"
   ]
  },
  {
   "cell_type": "code",
   "execution_count": 4,
   "metadata": {
    "ExecuteTime": {
     "end_time": "2020-05-06T16:20:11.000535Z",
     "start_time": "2020-05-06T16:20:10.786067Z"
    }
   },
   "outputs": [],
   "source": [
    "config = tf.ConfigProto(gpu_options=tf.GPUOptions(allow_growth=True))\n",
    "sess = tf.Session(config=config)"
   ]
  },
  {
   "cell_type": "code",
   "execution_count": 5,
   "metadata": {
    "ExecuteTime": {
     "end_time": "2020-05-06T16:20:11.102905Z",
     "start_time": "2020-05-06T16:20:11.004054Z"
    }
   },
   "outputs": [],
   "source": [
    "cleandata = np.load(\"./data/clean100data.npy\")\n",
    "cleanlabel = np.load(\"./data/clean100label.npy\")\n",
    "targets = np.load(\"./data/random_targets.npy\")"
   ]
  },
  {
   "cell_type": "code",
   "execution_count": 6,
   "metadata": {
    "ExecuteTime": {
     "end_time": "2020-05-06T16:20:11.110851Z",
     "start_time": "2020-05-06T16:20:11.105351Z"
    }
   },
   "outputs": [],
   "source": [
    "def linf_distortion(img1, img2):\n",
    "    if len(img1.shape) == 4:\n",
    "        n = img1.shape[0]\n",
    "        l = np.mean(np.max(np.abs(img1.reshape((n, -1)) - img2.reshape((n, -1))), axis=1), axis=0)\n",
    "    else:\n",
    "        l = np.max(np.abs(img1 - img2))\n",
    "            \n",
    "    return l"
   ]
  },
  {
   "cell_type": "code",
   "execution_count": 7,
   "metadata": {
    "ExecuteTime": {
     "end_time": "2020-05-06T16:20:11.125436Z",
     "start_time": "2020-05-06T16:20:11.112650Z"
    }
   },
   "outputs": [],
   "source": [
    "l2_x = tf.placeholder(tf.float32, (None,299, 299, 3))\n",
    "l2_orig = tf.placeholder(tf.float32, (None,299, 299, 3))\n",
    "normalized_l2_loss = tf.nn.l2_loss(l2_orig - l2_x) / tf.nn.l2_loss(l2_orig)"
   ]
  },
  {
   "cell_type": "code",
   "execution_count": 8,
   "metadata": {
    "ExecuteTime": {
     "end_time": "2020-05-06T16:20:16.071648Z",
     "start_time": "2020-05-06T16:20:11.127413Z"
    }
   },
   "outputs": [
    {
     "name": "stdout",
     "output_type": "stream",
     "text": [
      "INFO:tensorflow:Scale of 0 disables regularizer.\n",
      "WARNING:tensorflow:From /home/stanislas/RDD/Random_Distortion_over_Distillation_master/inceptionv3.py:30: The name tf.image.resize_bilinear is deprecated. Please use tf.compat.v1.image.resize_bilinear instead.\n",
      "\n",
      "WARNING:tensorflow:From /home/stanislas/RDD/Random_Distortion_over_Distillation_master/utils.py:24: The name tf.train.NewCheckpointReader is deprecated. Please use tf.compat.v1.train.NewCheckpointReader instead.\n",
      "\n",
      "WARNING:tensorflow:From /home/stanislas/RDD/Random_Distortion_over_Distillation_master/utils.py:26: The name tf.global_variables is deprecated. Please use tf.compat.v1.global_variables instead.\n",
      "\n",
      "WARNING:tensorflow:From /home/stanislas/RDD/Random_Distortion_over_Distillation_master/utils.py:29: The name tf.variable_scope is deprecated. Please use tf.compat.v1.variable_scope instead.\n",
      "\n",
      "WARNING:tensorflow:From /home/stanislas/RDD/Random_Distortion_over_Distillation_master/utils.py:31: The name tf.get_variable is deprecated. Please use tf.compat.v1.get_variable instead.\n",
      "\n",
      "WARNING:tensorflow:From /home/stanislas/RDD/Random_Distortion_over_Distillation_master/utils.py:35: The name tf.train.Saver is deprecated. Please use tf.compat.v1.train.Saver instead.\n",
      "\n",
      "WARNING:tensorflow:From /home/stanislas/anaconda3/lib/python3.7/site-packages/tensorflow/python/training/saver.py:1276: checkpoint_exists (from tensorflow.python.training.checkpoint_management) is deprecated and will be removed in a future version.\n",
      "Instructions for updating:\n",
      "Use standard file APIs to check for files with this prefix.\n",
      "INFO:tensorflow:Restoring parameters from /home/stanislas/RDD/Random_Distortion_over_Distillation_master/data/inception_v3.ckpt\n"
     ]
    }
   ],
   "source": [
    "x = tf.placeholder(tf.float32, (None, 299, 299, 3))\n",
    "\n",
    "session_logits, session_preds = inceptionv3.model(sess, x)\n",
    "session_l2_x = tf.placeholder(tf.float32, (299, 299, 3))\n",
    "session_l2_orig = tf.placeholder(tf.float32, (299, 299, 3))\n",
    "session_normalized_l2_loss = tf.nn.l2_loss(session_l2_orig - session_l2_x) / tf.nn.l2_loss(session_l2_orig)"
   ]
  },
  {
   "cell_type": "code",
   "execution_count": 9,
   "metadata": {
    "ExecuteTime": {
     "end_time": "2020-05-06T16:20:18.226777Z",
     "start_time": "2020-05-06T16:20:16.074108Z"
    }
   },
   "outputs": [],
   "source": [
    "totalbatch = 10\n",
    "batchsize = 10\n",
    "preds = np.zeros((100))\n",
    "\n",
    "for numbatch in range(totalbatch):\n",
    "    cleanbatch, _ = getabatch(cleandata, cleanlabel, numbatch, batchsize)\n",
    "    preds[numbatch*batchsize:(numbatch*batchsize+batchsize)] = sess.run([session_preds], {x: cleanbatch})[0]"
   ]
  },
  {
   "cell_type": "code",
   "execution_count": 10,
   "metadata": {
    "ExecuteTime": {
     "end_time": "2020-05-06T16:20:18.236465Z",
     "start_time": "2020-05-06T16:20:18.230676Z"
    }
   },
   "outputs": [
    {
     "name": "stdout",
     "output_type": "stream",
     "text": [
      "Clean images accuracy: 1.0\n"
     ]
    }
   ],
   "source": [
    "print(\"Clean images accuracy:\", np.mean(preds == cleanlabel))"
   ]
  },
  {
   "cell_type": "markdown",
   "metadata": {},
   "source": [
    "# No defense Accuracy"
   ]
  },
  {
   "cell_type": "code",
   "execution_count": 15,
   "metadata": {
    "ExecuteTime": {
     "end_time": "2020-05-05T14:18:10.824154Z",
     "start_time": "2020-05-05T14:18:04.764563Z"
    }
   },
   "outputs": [
    {
     "name": "stdout",
     "output_type": "stream",
     "text": [
      "./AE/FGSM_003_AE_data.npy\n",
      "Linf 0.030000001192092896\n",
      "L2: [0.0030142718]\n",
      "Accuracy: 0.39\n",
      "Attack success rate: 0.0\n",
      "./AE/CW_AE_data.npy\n",
      "Linf 0.15649616669863461\n",
      "L2: [0.0013634859]\n",
      "Accuracy: 0.0\n",
      "Attack success rate: 1.0\n",
      "./AE/IFGSM_001_AE_data.npy\n",
      "Linf 0.01000000536441803\n",
      "L2: [5.57202e-05]\n",
      "Accuracy: 0.13\n",
      "Attack success rate: 0.79\n",
      "./AE/FGSM_001_AE_data.npy\n",
      "Linf 0.010000020265579224\n",
      "L2: [0.0003398376]\n",
      "Accuracy: 0.36\n",
      "Attack success rate: 0.0\n",
      "./AE/IFGSM_003_AE_data.npy\n",
      "Linf 0.030000001192092896\n",
      "L2: [0.00033324127]\n",
      "Accuracy: 0.02\n",
      "Attack success rate: 0.95\n",
      "./AE/Deepfool_AE_data.npy\n",
      "Linf 0.010452060048701242\n",
      "L2: [2.4580334e-06]\n",
      "Accuracy: 0.0\n",
      "Attack success rate: 0.0\n"
     ]
    }
   ],
   "source": [
    "ae_dir = \"./AE\"\n",
    "names = os.listdir(ae_dir)\n",
    "for name in names:\n",
    "    path = os.path.join(ae_dir, name)\n",
    "    if os.path.splitext(path)[-1] == '.npy' and name.find('AE') != -1:\n",
    "        print(path)\n",
    "        ae_data = np.load(path)\n",
    "        preds = np.zeros((100))\n",
    "        print(\"Linf\", linf_distortion(ae_data, cleandata))\n",
    "        l2 = sess.run([normalized_l2_loss], {l2_x: ae_data, l2_orig: cleandata})\n",
    "        print(\"L2:\", l2)\n",
    "        for numbatch in range(totalbatch):\n",
    "            aebatch, _ = getabatch(ae_data, cleanlabel, numbatch, batchsize)\n",
    "            preds[numbatch*batchsize:(numbatch*batchsize+batchsize)] = sess.run([session_preds], {x: aebatch})[0]\n",
    "        print(\"Accuracy:\", np.mean(preds == cleanlabel))\n",
    "        print(\"Attack success rate:\", np.mean(preds == np.argmax(targets, axis=1)))"
   ]
  },
  {
   "cell_type": "markdown",
   "metadata": {},
   "source": [
    "# FD Accuracy"
   ]
  },
  {
   "cell_type": "code",
   "execution_count": 16,
   "metadata": {
    "ExecuteTime": {
     "end_time": "2020-05-05T14:33:21.568807Z",
     "start_time": "2020-05-05T14:31:01.000382Z"
    }
   },
   "outputs": [
    {
     "name": "stdout",
     "output_type": "stream",
     "text": [
      "./AE/FGSM_003_AE_data.npy\n",
      "Accuracy: 0.47\n",
      "Attack success rate: 0.0\n",
      "./AE/CW_AE_data.npy\n",
      "Accuracy: 0.84\n",
      "Attack success rate: 0.0\n",
      "./AE/IFGSM_001_AE_data.npy\n",
      "Accuracy: 0.96\n",
      "Attack success rate: 0.0\n",
      "./AE/FGSM_001_AE_data.npy\n",
      "Accuracy: 0.64\n",
      "Attack success rate: 0.0\n",
      "./AE/clean100data.npy\n",
      "Accuracy: 0.97\n",
      "Attack success rate: 0.0\n",
      "./AE/IFGSM_003_AE_data.npy\n",
      "Accuracy: 0.87\n",
      "Attack success rate: 0.0\n",
      "./AE/Deepfool_AE_data.npy\n",
      "Accuracy: 0.96\n",
      "Attack success rate: 0.0\n"
     ]
    }
   ],
   "source": [
    "ae_dir = \"./AE\"\n",
    "names = os.listdir(ae_dir)\n",
    "for name in names:\n",
    "    path = os.path.join(ae_dir, name)\n",
    "    if os.path.splitext(path)[-1] == '.npy':\n",
    "        print(path)\n",
    "        ae_data = np.load(path)\n",
    "        ae_FD = defend_FD(ae_data)\n",
    "        preds = np.zeros((100))\n",
    "        for numbatch in range(totalbatch):\n",
    "            aebatch, _ = getabatch(ae_FD, cleanlabel, numbatch, batchsize)\n",
    "            preds[numbatch*batchsize:(numbatch*batchsize+batchsize)] = sess.run([session_preds], {x: aebatch})[0]\n",
    "        print(\"Accuracy:\", np.mean(preds == cleanlabel))\n",
    "        print(\"Attack success rate:\", np.mean(preds == np.argmax(targets, axis=1)))"
   ]
  },
  {
   "cell_type": "markdown",
   "metadata": {},
   "source": [
    "# GD Accuracy"
   ]
  },
  {
   "cell_type": "code",
   "execution_count": 28,
   "metadata": {
    "ExecuteTime": {
     "end_time": "2020-05-05T16:07:18.763099Z",
     "start_time": "2020-05-05T16:07:13.276617Z"
    }
   },
   "outputs": [
    {
     "name": "stdout",
     "output_type": "stream",
     "text": [
      "./AE/FGSM_003_AE_data.npy\n",
      "Accuracy: 0.56\n",
      "Attack success rate: 0.0\n",
      "./AE/CW_AE_data.npy\n",
      "Accuracy: 0.83\n",
      "Attack success rate: 0.0\n",
      "./AE/IFGSM_001_AE_data.npy\n",
      "Accuracy: 0.92\n",
      "Attack success rate: 0.0\n",
      "./AE/FGSM_001_AE_data.npy\n",
      "Accuracy: 0.66\n",
      "Attack success rate: 0.0\n",
      "./AE/clean100data.npy\n",
      "Accuracy: 0.96\n",
      "Attack success rate: 0.0\n",
      "./AE/IFGSM_003_AE_data.npy\n",
      "Accuracy: 0.75\n",
      "Attack success rate: 0.04\n",
      "./AE/Deepfool_AE_data.npy\n",
      "Accuracy: 0.98\n",
      "Attack success rate: 0.0\n"
     ]
    }
   ],
   "source": [
    "ds = 0.15\n",
    "ae_dir = \"./AE\"\n",
    "names = os.listdir(ae_dir)\n",
    "for name in names:\n",
    "    path = os.path.join(ae_dir, name)\n",
    "    if os.path.splitext(path)[-1] == '.npy':\n",
    "        print(path)\n",
    "        ae_data = np.load(path)\n",
    "        ae_GD = np.zeros(ae_data.shape)\n",
    "        for i in range(ae_data.shape[0]):\n",
    "            ae_GD[i] = defend_GD(ae_data[i], distort_limit=ds)\n",
    "        preds = np.zeros((100))\n",
    "        for numbatch in range(totalbatch):\n",
    "            aebatch, _ = getabatch(ae_GD, cleanlabel, numbatch, batchsize)\n",
    "            preds[numbatch*batchsize:(numbatch*batchsize+batchsize)] = sess.run([session_preds], {x: aebatch})[0]\n",
    "        print(\"Accuracy:\", np.mean(preds == cleanlabel))\n",
    "        print(\"Attack success rate:\", np.mean(preds == np.argmax(targets, axis=1)))"
   ]
  },
  {
   "cell_type": "markdown",
   "metadata": {},
   "source": [
    "# FD+GD Accuracy"
   ]
  },
  {
   "cell_type": "code",
   "execution_count": 22,
   "metadata": {
    "ExecuteTime": {
     "end_time": "2020-05-05T15:04:57.111883Z",
     "start_time": "2020-05-05T15:02:29.124716Z"
    }
   },
   "outputs": [
    {
     "name": "stdout",
     "output_type": "stream",
     "text": [
      "./AE/FGSM_003_AE_data.npy\n",
      "Accuracy: 0.55\n",
      "Attack success rate: 0.0\n",
      "./AE/CW_AE_data.npy\n",
      "Accuracy: 0.83\n",
      "Attack success rate: 0.0\n",
      "./AE/IFGSM_001_AE_data.npy\n",
      "Accuracy: 0.91\n",
      "Attack success rate: 0.0\n",
      "./AE/FGSM_001_AE_data.npy\n",
      "Accuracy: 0.75\n",
      "Attack success rate: 0.0\n",
      "./AE/clean100data.npy\n",
      "Accuracy: 0.93\n",
      "Attack success rate: 0.0\n",
      "./AE/IFGSM_003_AE_data.npy\n",
      "Accuracy: 0.89\n",
      "Attack success rate: 0.0\n",
      "./AE/Deepfool_AE_data.npy\n",
      "Accuracy: 0.94\n",
      "Attack success rate: 0.0\n"
     ]
    }
   ],
   "source": [
    "ds = 0.25\n",
    "ae_dir = \"./AE\"\n",
    "names = os.listdir(ae_dir)\n",
    "for name in names:\n",
    "    path = os.path.join(ae_dir, name)\n",
    "    if os.path.splitext(path)[-1] == '.npy':\n",
    "        print(path)\n",
    "        ae_data = np.load(path)\n",
    "        ae_FD_GD = np.zeros(ae_data.shape)\n",
    "        for i in range(ae_data.shape[0]):\n",
    "            ae_FD_GD[i] = defend_GD(defend_FD_sig(ae_data[i]), distort_limit = ds)\n",
    "        preds = np.zeros((100))\n",
    "        for numbatch in range(totalbatch):\n",
    "            aebatch, _ = getabatch(ae_FD_GD, cleanlabel, numbatch, batchsize)\n",
    "            preds[numbatch*batchsize:(numbatch*batchsize+batchsize)] = sess.run([session_preds], {x: aebatch})[0]\n",
    "        print(\"Accuracy:\", np.mean(preds == cleanlabel))\n",
    "        print(\"Attack success rate:\", np.mean(preds == np.argmax(targets, axis=1)))"
   ]
  },
  {
   "cell_type": "code",
   "execution_count": 15,
   "metadata": {
    "ExecuteTime": {
     "end_time": "2020-05-06T16:00:55.887622Z",
     "start_time": "2020-05-06T15:58:29.464611Z"
    }
   },
   "outputs": [
    {
     "name": "stdout",
     "output_type": "stream",
     "text": [
      "./AE/LBFGS_AE_data.npy\n",
      "Distortion: 0.01\n",
      "Accuracy: 0.95\n",
      "Attack success rate: 0.0\n",
      "Distortion: 0.05\n",
      "Accuracy: 0.97\n",
      "Attack success rate: 0.0\n",
      "Distortion: 0.1\n",
      "Accuracy: 0.93\n",
      "Attack success rate: 0.0\n",
      "Distortion: 0.15\n",
      "Accuracy: 0.91\n",
      "Attack success rate: 0.0\n",
      "Distortion: 0.2\n",
      "Accuracy: 0.94\n",
      "Attack success rate: 0.0\n",
      "Distortion: 0.25\n",
      "Accuracy: 0.94\n",
      "Attack success rate: 0.0\n",
      "Distortion: 0.3\n",
      "Accuracy: 0.88\n",
      "Attack success rate: 0.0\n"
     ]
    }
   ],
   "source": [
    "ae_dir = \"./AE\"\n",
    "names = os.listdir(ae_dir)\n",
    "for name in names:\n",
    "    path = os.path.join(ae_dir, name)\n",
    "    if os.path.splitext(path)[-1] == '.npy' and name.find('LBFGS') != -1:\n",
    "        print(path)\n",
    "        ae_data = np.load(path)\n",
    "        for ds in [0.01, 0.05, 0.10, 0.15, 0.20, 0.25, 0.30]:\n",
    "            print(\"Distortion:\", ds)\n",
    "            ae_FD_GD = np.zeros(ae_data.shape)\n",
    "            for i in range(ae_data.shape[0]):\n",
    "                ae_FD_GD[i] = defend_GD(defend_FD_sig(ae_data[i]), distort_limit = ds)\n",
    "            preds = np.zeros((100))\n",
    "            for numbatch in range(totalbatch):\n",
    "                aebatch, _ = getabatch(ae_FD_GD, cleanlabel, numbatch, batchsize)\n",
    "                preds[numbatch*batchsize:(numbatch*batchsize+batchsize)] = sess.run([session_preds], {x: aebatch})[0]\n",
    "            print(\"Accuracy:\", np.mean(preds == cleanlabel))\n",
    "            print(\"Attack success rate:\", np.mean(preds == np.argmax(targets, axis=1)))"
   ]
  },
  {
   "cell_type": "markdown",
   "metadata": {},
   "source": [
    "# Randomization"
   ]
  },
  {
   "cell_type": "code",
   "execution_count": 16,
   "metadata": {
    "ExecuteTime": {
     "end_time": "2020-05-06T16:06:00.346593Z",
     "start_time": "2020-05-06T16:05:59.310373Z"
    }
   },
   "outputs": [
    {
     "name": "stdout",
     "output_type": "stream",
     "text": [
      "WARNING:tensorflow:From /home/stanislas/RDD/Random_Distortion_over_Distillation_master/defense_compare.py:205: The name tf.random_uniform is deprecated. Please use tf.random.uniform instead.\n",
      "\n",
      "WARNING:tensorflow:From /home/stanislas/RDD/Random_Distortion_over_Distillation_master/defense_compare.py:206: calling crop_and_resize_v1 (from tensorflow.python.ops.image_ops_impl) with box_ind is deprecated and will be removed in a future version.\n",
      "Instructions for updating:\n",
      "box_ind is deprecated, use box_indices instead\n",
      "INFO:tensorflow:Scale of 0 disables regularizer.\n"
     ]
    }
   ],
   "source": [
    "x_single = tf.placeholder(tf.float32, (299, 299, 3))\n",
    "x_expanded = tf.expand_dims(x_single, axis=0)\n",
    "rand_xs = defend_randomization(x_expanded)\n",
    "rand_logits, rand_preds = inceptionv3.model(sess, rand_xs)"
   ]
  },
  {
   "cell_type": "code",
   "execution_count": 24,
   "metadata": {
    "ExecuteTime": {
     "end_time": "2020-05-05T15:20:18.508083Z",
     "start_time": "2020-05-05T15:20:05.779678Z"
    }
   },
   "outputs": [
    {
     "name": "stdout",
     "output_type": "stream",
     "text": [
      "./AE/FGSM_003_AE_data.npy\n",
      "Accuracy: 0.6\n",
      "Attack success rate: 0.0\n",
      "./AE/CW_AE_data.npy\n",
      "Accuracy: 0.86\n",
      "Attack success rate: 0.0\n",
      "./AE/IFGSM_001_AE_data.npy\n",
      "Accuracy: 0.92\n",
      "Attack success rate: 0.0\n",
      "./AE/FGSM_001_AE_data.npy\n",
      "Accuracy: 0.69\n",
      "Attack success rate: 0.0\n",
      "./AE/clean100data.npy\n",
      "Accuracy: 0.96\n",
      "Attack success rate: 0.0\n",
      "./AE/IFGSM_003_AE_data.npy\n",
      "Accuracy: 0.86\n",
      "Attack success rate: 0.01\n",
      "./AE/Deepfool_AE_data.npy\n",
      "Accuracy: 0.91\n",
      "Attack success rate: 0.0\n"
     ]
    }
   ],
   "source": [
    "ae_dir = \"./AE\"\n",
    "names = os.listdir(ae_dir)\n",
    "for name in names:\n",
    "    path = os.path.join(ae_dir, name)\n",
    "    if os.path.splitext(path)[-1] == '.npy':\n",
    "        print(path)\n",
    "        ae_data = np.load(path)\n",
    "        preds = np.zeros((100))\n",
    "        for i in range(100):\n",
    "            preds[i] = sess.run([rand_preds], {x_single: ae_data[i]})[0]\n",
    "        print(\"Accuracy:\", np.mean(preds == cleanlabel))\n",
    "        print(\"Attack success rate:\", np.mean(preds == np.argmax(targets, axis=1)))"
   ]
  },
  {
   "cell_type": "markdown",
   "metadata": {},
   "source": [
    "# FD+Randomization"
   ]
  },
  {
   "cell_type": "code",
   "execution_count": 25,
   "metadata": {
    "ExecuteTime": {
     "end_time": "2020-05-05T15:30:00.098382Z",
     "start_time": "2020-05-05T15:27:24.587659Z"
    }
   },
   "outputs": [
    {
     "name": "stdout",
     "output_type": "stream",
     "text": [
      "./AE/FGSM_003_AE_data.npy\n",
      "Accuracy: 0.58\n",
      "Attack success rate: 0.0\n",
      "./AE/CW_AE_data.npy\n",
      "Accuracy: 0.86\n",
      "Attack success rate: 0.0\n",
      "./AE/IFGSM_001_AE_data.npy\n",
      "Accuracy: 0.91\n",
      "Attack success rate: 0.0\n",
      "./AE/FGSM_001_AE_data.npy\n",
      "Accuracy: 0.79\n",
      "Attack success rate: 0.0\n",
      "./AE/clean100data.npy\n",
      "Accuracy: 0.92\n",
      "Attack success rate: 0.0\n",
      "./AE/IFGSM_003_AE_data.npy\n",
      "Accuracy: 0.88\n",
      "Attack success rate: 0.0\n",
      "./AE/Deepfool_AE_data.npy\n",
      "Accuracy: 0.93\n",
      "Attack success rate: 0.0\n"
     ]
    }
   ],
   "source": [
    "ae_dir = \"./AE\"\n",
    "names = os.listdir(ae_dir)\n",
    "for name in names:\n",
    "    path = os.path.join(ae_dir, name)\n",
    "    if os.path.splitext(path)[-1] == '.npy':\n",
    "        print(path)\n",
    "        ae_data = np.load(path)\n",
    "        preds = np.zeros((100))\n",
    "        for i in range(100):\n",
    "            preds[i] = sess.run([rand_preds], {x_single: defend_FD_sig(ae_data[i])})[0]\n",
    "        print(\"Accuracy:\", np.mean(preds == cleanlabel))\n",
    "        print(\"Attack success rate:\", np.mean(preds == np.argmax(targets, axis=1)))"
   ]
  },
  {
   "cell_type": "markdown",
   "metadata": {},
   "source": [
    "# Randomization parameter test"
   ]
  },
  {
   "cell_type": "code",
   "execution_count": 32,
   "metadata": {
    "ExecuteTime": {
     "end_time": "2020-05-06T16:52:38.960544Z",
     "start_time": "2020-05-06T16:52:37.926811Z"
    }
   },
   "outputs": [
    {
     "name": "stdout",
     "output_type": "stream",
     "text": [
      "INFO:tensorflow:Scale of 0 disables regularizer.\n"
     ]
    }
   ],
   "source": [
    "x_single = tf.placeholder(tf.float32, (299, 299, 3))\n",
    "x_expanded = tf.expand_dims(x_single, axis=0)\n",
    "rand_xs = defend_randomization_test(x_expanded, bound=400, pad_value=1)\n",
    "rand_logits, rand_preds = inceptionv3.model(sess, rand_xs)"
   ]
  },
  {
   "cell_type": "code",
   "execution_count": 33,
   "metadata": {
    "ExecuteTime": {
     "end_time": "2020-05-06T16:52:52.457463Z",
     "start_time": "2020-05-06T16:52:38.962483Z"
    }
   },
   "outputs": [
    {
     "name": "stdout",
     "output_type": "stream",
     "text": [
      "./AE/FGSM_003_AE_data.npy\n",
      "Accuracy: 0.58\n",
      "Attack success rate: 0.0\n",
      "./AE/CW_AE_data.npy\n",
      "Accuracy: 0.86\n",
      "Attack success rate: 0.0\n",
      "./AE/IFGSM_001_AE_data.npy\n",
      "Accuracy: 0.9\n",
      "Attack success rate: 0.0\n",
      "./AE/FGSM_001_AE_data.npy\n",
      "Accuracy: 0.68\n",
      "Attack success rate: 0.0\n",
      "./AE/clean100data.npy\n",
      "Accuracy: 0.95\n",
      "Attack success rate: 0.0\n",
      "./AE/LBFGS_AE_data.npy\n",
      "Accuracy: 0.93\n",
      "Attack success rate: 0.0\n",
      "./AE/IFGSM_003_AE_data.npy\n",
      "Accuracy: 0.84\n",
      "Attack success rate: 0.01\n",
      "./AE/Deepfool_AE_data.npy\n",
      "Accuracy: 0.95\n",
      "Attack success rate: 0.0\n"
     ]
    }
   ],
   "source": [
    "# Random\n",
    "ae_dir = \"./AE\"\n",
    "names = os.listdir(ae_dir)\n",
    "for name in names:\n",
    "    path = os.path.join(ae_dir, name)\n",
    "    if os.path.splitext(path)[-1] == '.npy':\n",
    "        print(path)\n",
    "        ae_data = np.load(path)\n",
    "        preds = np.zeros((100))\n",
    "        for i in range(100):\n",
    "            preds[i] = sess.run([rand_preds], {x_single: ae_data[i]})[0]\n",
    "        print(\"Accuracy:\", np.mean(preds == cleanlabel))\n",
    "        print(\"Attack success rate:\", np.mean(preds == np.argmax(targets, axis=1)))"
   ]
  },
  {
   "cell_type": "code",
   "execution_count": 34,
   "metadata": {
    "ExecuteTime": {
     "end_time": "2020-05-06T16:55:53.635218Z",
     "start_time": "2020-05-06T16:52:52.460708Z"
    }
   },
   "outputs": [
    {
     "name": "stdout",
     "output_type": "stream",
     "text": [
      "./AE/FGSM_003_AE_data.npy\n",
      "Accuracy: 0.6\n",
      "Attack success rate: 0.0\n",
      "./AE/CW_AE_data.npy\n",
      "Accuracy: 0.91\n",
      "Attack success rate: 0.0\n",
      "./AE/IFGSM_001_AE_data.npy\n",
      "Accuracy: 0.91\n",
      "Attack success rate: 0.0\n",
      "./AE/FGSM_001_AE_data.npy\n",
      "Accuracy: 0.75\n",
      "Attack success rate: 0.0\n",
      "./AE/clean100data.npy\n",
      "Accuracy: 0.93\n",
      "Attack success rate: 0.0\n",
      "./AE/LBFGS_AE_data.npy\n",
      "Accuracy: 0.87\n",
      "Attack success rate: 0.0\n",
      "./AE/IFGSM_003_AE_data.npy\n",
      "Accuracy: 0.83\n",
      "Attack success rate: 0.0\n",
      "./AE/Deepfool_AE_data.npy\n",
      "Accuracy: 0.93\n",
      "Attack success rate: 0.0\n"
     ]
    }
   ],
   "source": [
    "# FD+Random\n",
    "ae_dir = \"./AE\"\n",
    "names = os.listdir(ae_dir)\n",
    "for name in names:\n",
    "    path = os.path.join(ae_dir, name)\n",
    "    if os.path.splitext(path)[-1] == '.npy':\n",
    "        print(path)\n",
    "        ae_data = np.load(path)\n",
    "        preds = np.zeros((100))\n",
    "        for i in range(100):\n",
    "            preds[i] = sess.run([rand_preds], {x_single: defend_FD_sig(ae_data[i])})[0]\n",
    "        print(\"Accuracy:\", np.mean(preds == cleanlabel))\n",
    "        print(\"Attack success rate:\", np.mean(preds == np.argmax(targets, axis=1)))"
   ]
  },
  {
   "cell_type": "code",
   "execution_count": null,
   "metadata": {},
   "outputs": [],
   "source": []
  }
 ],
 "metadata": {
  "kernelspec": {
   "display_name": "Python 3",
   "language": "python",
   "name": "python3"
  },
  "language_info": {
   "codemirror_mode": {
    "name": "ipython",
    "version": 3
   },
   "file_extension": ".py",
   "mimetype": "text/x-python",
   "name": "python",
   "nbconvert_exporter": "python",
   "pygments_lexer": "ipython3",
   "version": "3.7.4"
  },
  "toc": {
   "base_numbering": 1,
   "nav_menu": {},
   "number_sections": true,
   "sideBar": true,
   "skip_h1_title": false,
   "title_cell": "Table of Contents",
   "title_sidebar": "Contents",
   "toc_cell": false,
   "toc_position": {},
   "toc_section_display": true,
   "toc_window_display": false
  }
 },
 "nbformat": 4,
 "nbformat_minor": 4
}
