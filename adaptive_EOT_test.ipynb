{
 "cells": [
  {
   "cell_type": "code",
   "execution_count": 2,
   "metadata": {
    "ExecuteTime": {
     "end_time": "2020-05-24T15:32:32.735916Z",
     "start_time": "2020-05-24T15:32:30.075516Z"
    }
   },
   "outputs": [
    {
     "name": "stderr",
     "output_type": "stream",
     "text": [
      "/home/stanislas/anaconda3/lib/python3.7/site-packages/tensorflow/python/framework/dtypes.py:516: FutureWarning: Passing (type, 1) or '1type' as a synonym of type is deprecated; in a future version of numpy, it will be understood as (type, (1,)) / '(1,)type'.\n",
      "  _np_qint8 = np.dtype([(\"qint8\", np.int8, 1)])\n",
      "/home/stanislas/anaconda3/lib/python3.7/site-packages/tensorflow/python/framework/dtypes.py:517: FutureWarning: Passing (type, 1) or '1type' as a synonym of type is deprecated; in a future version of numpy, it will be understood as (type, (1,)) / '(1,)type'.\n",
      "  _np_quint8 = np.dtype([(\"quint8\", np.uint8, 1)])\n",
      "/home/stanislas/anaconda3/lib/python3.7/site-packages/tensorflow/python/framework/dtypes.py:518: FutureWarning: Passing (type, 1) or '1type' as a synonym of type is deprecated; in a future version of numpy, it will be understood as (type, (1,)) / '(1,)type'.\n",
      "  _np_qint16 = np.dtype([(\"qint16\", np.int16, 1)])\n",
      "/home/stanislas/anaconda3/lib/python3.7/site-packages/tensorflow/python/framework/dtypes.py:519: FutureWarning: Passing (type, 1) or '1type' as a synonym of type is deprecated; in a future version of numpy, it will be understood as (type, (1,)) / '(1,)type'.\n",
      "  _np_quint16 = np.dtype([(\"quint16\", np.uint16, 1)])\n",
      "/home/stanislas/anaconda3/lib/python3.7/site-packages/tensorflow/python/framework/dtypes.py:520: FutureWarning: Passing (type, 1) or '1type' as a synonym of type is deprecated; in a future version of numpy, it will be understood as (type, (1,)) / '(1,)type'.\n",
      "  _np_qint32 = np.dtype([(\"qint32\", np.int32, 1)])\n",
      "/home/stanislas/anaconda3/lib/python3.7/site-packages/tensorflow/python/framework/dtypes.py:525: FutureWarning: Passing (type, 1) or '1type' as a synonym of type is deprecated; in a future version of numpy, it will be understood as (type, (1,)) / '(1,)type'.\n",
      "  np_resource = np.dtype([(\"resource\", np.ubyte, 1)])\n",
      "/home/stanislas/anaconda3/lib/python3.7/site-packages/tensorboard/compat/tensorflow_stub/dtypes.py:541: FutureWarning: Passing (type, 1) or '1type' as a synonym of type is deprecated; in a future version of numpy, it will be understood as (type, (1,)) / '(1,)type'.\n",
      "  _np_qint8 = np.dtype([(\"qint8\", np.int8, 1)])\n",
      "/home/stanislas/anaconda3/lib/python3.7/site-packages/tensorboard/compat/tensorflow_stub/dtypes.py:542: FutureWarning: Passing (type, 1) or '1type' as a synonym of type is deprecated; in a future version of numpy, it will be understood as (type, (1,)) / '(1,)type'.\n",
      "  _np_quint8 = np.dtype([(\"quint8\", np.uint8, 1)])\n",
      "/home/stanislas/anaconda3/lib/python3.7/site-packages/tensorboard/compat/tensorflow_stub/dtypes.py:543: FutureWarning: Passing (type, 1) or '1type' as a synonym of type is deprecated; in a future version of numpy, it will be understood as (type, (1,)) / '(1,)type'.\n",
      "  _np_qint16 = np.dtype([(\"qint16\", np.int16, 1)])\n",
      "/home/stanislas/anaconda3/lib/python3.7/site-packages/tensorboard/compat/tensorflow_stub/dtypes.py:544: FutureWarning: Passing (type, 1) or '1type' as a synonym of type is deprecated; in a future version of numpy, it will be understood as (type, (1,)) / '(1,)type'.\n",
      "  _np_quint16 = np.dtype([(\"quint16\", np.uint16, 1)])\n",
      "/home/stanislas/anaconda3/lib/python3.7/site-packages/tensorboard/compat/tensorflow_stub/dtypes.py:545: FutureWarning: Passing (type, 1) or '1type' as a synonym of type is deprecated; in a future version of numpy, it will be understood as (type, (1,)) / '(1,)type'.\n",
      "  _np_qint32 = np.dtype([(\"qint32\", np.int32, 1)])\n",
      "/home/stanislas/anaconda3/lib/python3.7/site-packages/tensorboard/compat/tensorflow_stub/dtypes.py:550: FutureWarning: Passing (type, 1) or '1type' as a synonym of type is deprecated; in a future version of numpy, it will be understood as (type, (1,)) / '(1,)type'.\n",
      "  np_resource = np.dtype([(\"resource\", np.ubyte, 1)])\n"
     ]
    }
   ],
   "source": [
    "import os\n",
    "import time\n",
    "import tqdm\n",
    "import inceptionv3\n",
    "import numpy as np\n",
    "import tensorflow as tf\n",
    "import defense"
   ]
  },
  {
   "cell_type": "code",
   "execution_count": 2,
   "metadata": {
    "ExecuteTime": {
     "end_time": "2020-05-24T08:36:41.861091Z",
     "start_time": "2020-05-24T08:36:41.858399Z"
    }
   },
   "outputs": [],
   "source": [
    "os.environ[\"CUDA_VISIBLE_DEVICES\"] = '0'"
   ]
  },
  {
   "cell_type": "code",
   "execution_count": 3,
   "metadata": {
    "ExecuteTime": {
     "end_time": "2020-05-24T08:36:42.200948Z",
     "start_time": "2020-05-24T08:36:41.995883Z"
    }
   },
   "outputs": [],
   "source": [
    "config = tf.ConfigProto(gpu_options=tf.GPUOptions(allow_growth=True))\n",
    "sess = tf.Session(config=config)"
   ]
  },
  {
   "cell_type": "code",
   "execution_count": 4,
   "metadata": {
    "ExecuteTime": {
     "end_time": "2020-05-24T08:36:43.395931Z",
     "start_time": "2020-05-24T08:36:43.391109Z"
    }
   },
   "outputs": [],
   "source": [
    "data_path = \"./data\"\n",
    "output_path = \"./finalresults\"\n",
    "if not os.path.exists(output_path):\n",
    "    os.makedirs(output_path)"
   ]
  },
  {
   "cell_type": "code",
   "execution_count": 5,
   "metadata": {
    "ExecuteTime": {
     "end_time": "2020-05-24T08:36:44.027066Z",
     "start_time": "2020-05-24T08:36:43.925315Z"
    }
   },
   "outputs": [],
   "source": [
    "cleandata = np.load(os.path.join(data_path, \"clean100data.npy\"))\n",
    "cleanlabel = np.load(os.path.join(data_path, \"clean100label.npy\"))\n",
    "targets = np.load(os.path.join(data_path, \"random_targets.npy\"))"
   ]
  },
  {
   "cell_type": "code",
   "execution_count": 6,
   "metadata": {
    "ExecuteTime": {
     "end_time": "2020-05-24T08:37:14.479140Z",
     "start_time": "2020-05-24T08:36:45.360607Z"
    }
   },
   "outputs": [
    {
     "name": "stdout",
     "output_type": "stream",
     "text": [
      "WARNING:tensorflow:From /home/stanislas/Advanced-Gradient-Obfuscating/defense.py:44: The name tf.random_uniform is deprecated. Please use tf.random.uniform instead.\n",
      "\n",
      "INFO:tensorflow:Scale of 0 disables regularizer.\n",
      "WARNING:tensorflow:From /home/stanislas/Advanced-Gradient-Obfuscating/inceptionv3.py:30: The name tf.image.resize_bilinear is deprecated. Please use tf.compat.v1.image.resize_bilinear instead.\n",
      "\n",
      "WARNING:tensorflow:From /home/stanislas/Advanced-Gradient-Obfuscating/utils.py:39: The name tf.train.NewCheckpointReader is deprecated. Please use tf.compat.v1.train.NewCheckpointReader instead.\n",
      "\n",
      "WARNING:tensorflow:From /home/stanislas/Advanced-Gradient-Obfuscating/utils.py:41: The name tf.global_variables is deprecated. Please use tf.compat.v1.global_variables instead.\n",
      "\n",
      "WARNING:tensorflow:From /home/stanislas/Advanced-Gradient-Obfuscating/utils.py:44: The name tf.variable_scope is deprecated. Please use tf.compat.v1.variable_scope instead.\n",
      "\n",
      "WARNING:tensorflow:From /home/stanislas/Advanced-Gradient-Obfuscating/utils.py:46: The name tf.get_variable is deprecated. Please use tf.compat.v1.get_variable instead.\n",
      "\n",
      "WARNING:tensorflow:From /home/stanislas/Advanced-Gradient-Obfuscating/utils.py:50: The name tf.train.Saver is deprecated. Please use tf.compat.v1.train.Saver instead.\n",
      "\n",
      "WARNING:tensorflow:From /home/stanislas/anaconda3/lib/python3.7/site-packages/tensorflow/python/training/saver.py:1276: checkpoint_exists (from tensorflow.python.training.checkpoint_management) is deprecated and will be removed in a future version.\n",
      "Instructions for updating:\n",
      "Use standard file APIs to check for files with this prefix.\n",
      "INFO:tensorflow:Restoring parameters from /home/stanislas/Advanced-Gradient-Obfuscating/data/inception_v3.ckpt\n",
      "INFO:tensorflow:Scale of 0 disables regularizer.\n"
     ]
    }
   ],
   "source": [
    "xs = tf.placeholder(tf.float32, (299, 299, 3))\n",
    "l2_x = tf.placeholder(tf.float32, (299, 299, 3))\n",
    "l2_orig = tf.placeholder(tf.float32, (299, 299, 3))\n",
    "label = tf.placeholder(tf.int32, ())\n",
    "one_hot = tf.expand_dims(tf.one_hot(label, 1000), axis=0)\n",
    "\n",
    "lam = 1e-6\n",
    "epsilon = 0.05\n",
    "ENSEMBLE_SIZE = 30\n",
    "max_steps = 50\n",
    "LR = 0.1\n",
    "\n",
    "xs_def = tf.expand_dims(defense.tftensorGD(xs), axis=0)\n",
    "logits, preds = inceptionv3.model(sess, xs_def)\n",
    "l2_loss = tf.sqrt(2 * tf.nn.l2_loss(l2_x - l2_orig) / (299 * 299 * 3))\n",
    "\n",
    "xs_ens = tf.stack([defense.tftensorGD(xs) for _ in range(ENSEMBLE_SIZE)], axis=0)\n",
    "logits_ens, preds_ens = inceptionv3.model(sess, xs_ens)\n",
    "\n",
    "labels_ens = tf.tile(one_hot, (logits_ens.shape[0], 1))\n",
    "xent = tf.reduce_mean(tf.nn.softmax_cross_entropy_with_logits_v2(logits=logits_ens, labels=labels_ens))\n",
    "loss_ens = xent + lam * tf.maximum(l2_loss - epsilon, 0)\n",
    "grad_ens, = tf.gradients(loss_ens, xs)\n",
    "probs_ens = tf.nn.softmax(logits_ens)"
   ]
  },
  {
   "cell_type": "code",
   "execution_count": 7,
   "metadata": {
    "ExecuteTime": {
     "end_time": "2020-05-24T10:35:21.741233Z",
     "start_time": "2020-05-24T08:40:16.902078Z"
    }
   },
   "outputs": [
    {
     "name": "stderr",
     "output_type": "stream",
     "text": [
      "/home/stanislas/anaconda3/lib/python3.7/site-packages/ipykernel_launcher.py:9: TqdmDeprecationWarning: This function will be removed in tqdm==5.0.0\n",
      "Please use `tqdm.notebook.tqdm` instead of `tqdm.tqdm_notebook`\n",
      "  if __name__ == '__main__':\n"
     ]
    },
    {
     "data": {
      "application/vnd.jupyter.widget-view+json": {
       "model_id": "7cf035faa5444a9d8d7aca4c9f4c5a8c",
       "version_major": 2,
       "version_minor": 0
      },
      "text/plain": [
       "HBox(children=(FloatProgress(value=0.0), HTML(value='')))"
      ]
     },
     "metadata": {},
     "output_type": "display_data"
    },
    {
     "name": "stdout",
     "output_type": "stream",
     "text": [
      "Generating AE 0...................................\n",
      "Can't find targeted AE under 100 iterations for image 0.\n",
      "Generating AE 1...................................\n",
      "Can't find targeted AE under 100 iterations for image 1.\n",
      "Generating AE 2...................................\n",
      "Found targeted AE. Iter: 74. L2: 0.0074470979161560535.\n",
      "Generating AE 3...................................\n",
      "Found targeted AE. Iter: 32. L2: 0.008241867646574974.\n",
      "Generating AE 4...................................\n",
      "Can't find targeted AE under 100 iterations for image 4.\n",
      "Generating AE 5...................................\n",
      "Found targeted AE. Iter: 26. L2: 0.005747338756918907.\n",
      "Generating AE 6...................................\n",
      "Can't find targeted AE under 100 iterations for image 6.\n",
      "Generating AE 7...................................\n",
      "Found targeted AE. Iter: 10. L2: 0.006491468288004398.\n",
      "Generating AE 8...................................\n",
      "Can't find targeted AE under 100 iterations for image 8.\n",
      "Generating AE 9...................................\n",
      "Can't find targeted AE under 100 iterations for image 9.\n",
      "Generating AE 10...................................\n",
      "Can't find targeted AE under 100 iterations for image 10.\n",
      "Generating AE 11...................................\n",
      "Can't find targeted AE under 100 iterations for image 11.\n",
      "Generating AE 12...................................\n",
      "Can't find targeted AE under 100 iterations for image 12.\n",
      "Generating AE 13...................................\n",
      "Can't find targeted AE under 100 iterations for image 13.\n",
      "Generating AE 14...................................\n",
      "Found targeted AE. Iter: 71. L2: 0.01009310781955719.\n",
      "Generating AE 15...................................\n",
      "Can't find targeted AE under 100 iterations for image 15.\n",
      "Generating AE 16...................................\n",
      "Can't find targeted AE under 100 iterations for image 16.\n",
      "Generating AE 17...................................\n",
      "Can't find targeted AE under 100 iterations for image 17.\n",
      "Generating AE 18...................................\n",
      "Can't find targeted AE under 100 iterations for image 18.\n",
      "Generating AE 19...................................\n",
      "Can't find targeted AE under 100 iterations for image 19.\n",
      "Generating AE 20...................................\n",
      "Found targeted AE. Iter: 73. L2: 0.009909611195325851.\n",
      "Generating AE 21...................................\n",
      "Found targeted AE. Iter: 15. L2: 0.005742777604609728.\n",
      "Generating AE 22...................................\n",
      "Can't find targeted AE under 100 iterations for image 22.\n",
      "Generating AE 23...................................\n",
      "Can't find targeted AE under 100 iterations for image 23.\n",
      "Generating AE 24...................................\n",
      "Found targeted AE. Iter: 71. L2: 0.005871421191841364.\n",
      "Generating AE 25...................................\n",
      "Found targeted AE. Iter: 82. L2: 0.009995365515351295.\n",
      "Generating AE 26...................................\n",
      "Found targeted AE. Iter: 40. L2: 0.008175999857485294.\n",
      "Generating AE 27...................................\n",
      "Can't find targeted AE under 100 iterations for image 27.\n",
      "Generating AE 28...................................\n",
      "Can't find targeted AE under 100 iterations for image 28.\n",
      "Generating AE 29...................................\n",
      "Can't find targeted AE under 100 iterations for image 29.\n",
      "Generating AE 30...................................\n",
      "Can't find targeted AE under 100 iterations for image 30.\n",
      "Generating AE 31...................................\n",
      "Can't find targeted AE under 100 iterations for image 31.\n",
      "Generating AE 32...................................\n",
      "Can't find targeted AE under 100 iterations for image 32.\n",
      "Generating AE 33...................................\n",
      "Can't find targeted AE under 100 iterations for image 33.\n",
      "Generating AE 34...................................\n",
      "Can't find targeted AE under 100 iterations for image 34.\n",
      "Generating AE 35...................................\n",
      "Can't find targeted AE under 100 iterations for image 35.\n",
      "Generating AE 36...................................\n",
      "Can't find targeted AE under 100 iterations for image 36.\n",
      "Generating AE 37...................................\n",
      "Can't find targeted AE under 100 iterations for image 37.\n",
      "Generating AE 38...................................\n",
      "Can't find targeted AE under 100 iterations for image 38.\n",
      "Generating AE 39...................................\n",
      "Can't find targeted AE under 100 iterations for image 39.\n",
      "Generating AE 40...................................\n",
      "Can't find targeted AE under 100 iterations for image 40.\n",
      "Generating AE 41...................................\n",
      "Found targeted AE. Iter: 68. L2: 0.010115417651832104.\n",
      "Generating AE 42...................................\n",
      "Found targeted AE. Iter: 46. L2: 0.007821173407137394.\n",
      "Generating AE 43...................................\n",
      "Found targeted AE. Iter: 20. L2: 0.006668915506452322.\n",
      "Generating AE 44...................................\n",
      "Can't find targeted AE under 100 iterations for image 44.\n",
      "Generating AE 45...................................\n",
      "Can't find targeted AE under 100 iterations for image 45.\n",
      "Generating AE 46...................................\n",
      "Found targeted AE. Iter: 33. L2: 0.007772640325129032.\n",
      "Generating AE 47...................................\n",
      "Found targeted AE. Iter: 77. L2: 0.010022464208304882.\n",
      "Generating AE 48...................................\n",
      "Found targeted AE. Iter: 62. L2: 0.007787491660565138.\n",
      "Generating AE 49...................................\n",
      "Found targeted AE. Iter: 63. L2: 0.01026297640055418.\n",
      "Generating AE 50...................................\n",
      "Found targeted AE. Iter: 28. L2: 0.006907934322953224.\n",
      "Generating AE 51...................................\n",
      "Can't find targeted AE under 100 iterations for image 51.\n",
      "Generating AE 52...................................\n",
      "Found targeted AE. Iter: 21. L2: 0.005101809278130531.\n",
      "Generating AE 53...................................\n",
      "Can't find targeted AE under 100 iterations for image 53.\n",
      "Generating AE 54...................................\n",
      "Can't find targeted AE under 100 iterations for image 54.\n",
      "Generating AE 55...................................\n",
      "Found targeted AE. Iter: 58. L2: 0.008838373236358166.\n",
      "Generating AE 56...................................\n",
      "Found targeted AE. Iter: 27. L2: 0.0062279230915009975.\n",
      "Generating AE 57...................................\n",
      "Can't find targeted AE under 100 iterations for image 57.\n",
      "Generating AE 58...................................\n",
      "Can't find targeted AE under 100 iterations for image 58.\n",
      "Generating AE 59...................................\n",
      "Can't find targeted AE under 100 iterations for image 59.\n",
      "Generating AE 60...................................\n",
      "Can't find targeted AE under 100 iterations for image 60.\n",
      "Generating AE 61...................................\n",
      "Can't find targeted AE under 100 iterations for image 61.\n",
      "Generating AE 62...................................\n",
      "Can't find targeted AE under 100 iterations for image 62.\n",
      "Generating AE 63...................................\n",
      "Found targeted AE. Iter: 39. L2: 0.007368650287389755.\n",
      "Generating AE 64...................................\n",
      "Can't find targeted AE under 100 iterations for image 64.\n",
      "Generating AE 65...................................\n",
      "Can't find targeted AE under 100 iterations for image 65.\n",
      "Generating AE 66...................................\n",
      "Can't find targeted AE under 100 iterations for image 66.\n",
      "Generating AE 67...................................\n",
      "Can't find targeted AE under 100 iterations for image 67.\n",
      "Generating AE 68...................................\n",
      "Can't find targeted AE under 100 iterations for image 68.\n",
      "Generating AE 69...................................\n",
      "Can't find targeted AE under 100 iterations for image 69.\n",
      "Generating AE 70...................................\n",
      "Can't find targeted AE under 100 iterations for image 70.\n",
      "Generating AE 71...................................\n",
      "Can't find targeted AE under 100 iterations for image 71.\n",
      "Generating AE 72...................................\n",
      "Can't find targeted AE under 100 iterations for image 72.\n",
      "Generating AE 73...................................\n",
      "Can't find targeted AE under 100 iterations for image 73.\n",
      "Generating AE 74...................................\n",
      "Found targeted AE. Iter: 11. L2: 0.004583209287375212.\n",
      "Generating AE 75...................................\n"
     ]
    },
    {
     "name": "stdout",
     "output_type": "stream",
     "text": [
      "Can't find targeted AE under 100 iterations for image 75.\n",
      "Generating AE 76...................................\n",
      "Can't find targeted AE under 100 iterations for image 76.\n",
      "Generating AE 77...................................\n",
      "Can't find targeted AE under 100 iterations for image 77.\n",
      "Generating AE 78...................................\n",
      "Can't find targeted AE under 100 iterations for image 78.\n",
      "Generating AE 79...................................\n",
      "Can't find targeted AE under 100 iterations for image 79.\n",
      "Generating AE 80...................................\n",
      "Found targeted AE. Iter: 57. L2: 0.004996743053197861.\n",
      "Generating AE 81...................................\n",
      "Found targeted AE. Iter: 42. L2: 0.006480049807578325.\n",
      "Generating AE 82...................................\n",
      "Can't find targeted AE under 100 iterations for image 82.\n",
      "Generating AE 83...................................\n",
      "Can't find targeted AE under 100 iterations for image 83.\n",
      "Generating AE 84...................................\n",
      "Can't find targeted AE under 100 iterations for image 84.\n",
      "Generating AE 85...................................\n",
      "Can't find targeted AE under 100 iterations for image 85.\n",
      "Generating AE 86...................................\n",
      "Can't find targeted AE under 100 iterations for image 86.\n",
      "Generating AE 87...................................\n",
      "Can't find targeted AE under 100 iterations for image 87.\n",
      "Generating AE 88...................................\n",
      "Can't find targeted AE under 100 iterations for image 88.\n",
      "Generating AE 89...................................\n",
      "Found targeted AE. Iter: 54. L2: 0.008921010419726372.\n",
      "Generating AE 90...................................\n",
      "Can't find targeted AE under 100 iterations for image 90.\n",
      "Generating AE 91...................................\n",
      "Can't find targeted AE under 100 iterations for image 91.\n",
      "Generating AE 92...................................\n",
      "Can't find targeted AE under 100 iterations for image 92.\n",
      "Generating AE 93...................................\n",
      "Can't find targeted AE under 100 iterations for image 93.\n",
      "Generating AE 94...................................\n",
      "Found targeted AE. Iter: 4. L2: 0.0030964333564043045.\n",
      "Generating AE 95...................................\n",
      "Found targeted AE. Iter: 12. L2: 0.00573496799916029.\n",
      "Generating AE 96...................................\n",
      "Can't find targeted AE under 100 iterations for image 96.\n",
      "Generating AE 97...................................\n",
      "Can't find targeted AE under 100 iterations for image 97.\n",
      "Generating AE 98...................................\n",
      "Can't find targeted AE under 100 iterations for image 98.\n",
      "Generating AE 99...................................\n",
      "Can't find targeted AE under 100 iterations for image 99.\n",
      "\n"
     ]
    }
   ],
   "source": [
    "#adaptive EOT\n",
    "adv = np.copy(cleandata)\n",
    "max_steps = 100\n",
    "acclist = np.zeros((max_steps,))\n",
    "succrec = np.zeros((max_steps,))\n",
    "succlist = np.zeros((max_steps,))\n",
    "\n",
    "start = time.time()\n",
    "for index in tqdm.tqdm_notebook(range(cleandata.shape[0])):\n",
    "    \n",
    "    EOT_adv = np.copy(adv[index])\n",
    "    print(\"Generating AE {}...................................\".format(index))\n",
    "    for i in range(max_steps):\n",
    "        adv_def = defense.defend_FD_sig(defense.defend_FD_sig(EOT_adv))\n",
    "        #the RDG procedure is inside the session\n",
    "        p, l2 = sess.run([preds, l2_loss], {xs: adv_def, l2_x: EOT_adv, l2_orig: cleandata[index]})\n",
    "        acclist[i] += (p == cleanlabel[index]).astype(int)\n",
    "        succrec[i] += (p == targets[index]).astype(int)\n",
    "        if p == targets[index] and l2 < epsilon:\n",
    "            print(\"Found targeted AE. Iter: {}. L2: {}.\".format(i, l2))\n",
    "            break\n",
    "        elif l2 > epsilon:\n",
    "            print(\"Can't find targeted AE under l2-norm 0.05.\")\n",
    "            break\n",
    "        \n",
    "        g_ens, p_ens = sess.run([grad_ens, preds_ens], {xs: EOT_adv, label: targets[index]})\n",
    "        EOT_adv -= LR * g_ens\n",
    "        EOT_adv = np.clip(EOT_adv, 0, 1)\n",
    "    \n",
    "    if i == max_steps - 1:\n",
    "        print(\"Can't find targeted AE under {} iterations for image {}.\".format(max_steps, index))\n",
    "    adv[index] = EOT_adv\n",
    "for j in range(max_steps):\n",
    "    succlist[j] = succrec[:j+1].sum()"
   ]
  },
  {
   "cell_type": "code",
   "execution_count": null,
   "metadata": {},
   "outputs": [],
   "source": []
  }
 ],
 "metadata": {
  "kernelspec": {
   "display_name": "Python 3",
   "language": "python",
   "name": "python3"
  },
  "language_info": {
   "codemirror_mode": {
    "name": "ipython",
    "version": 3
   },
   "file_extension": ".py",
   "mimetype": "text/x-python",
   "name": "python",
   "nbconvert_exporter": "python",
   "pygments_lexer": "ipython3",
   "version": "3.7.7"
  },
  "toc": {
   "base_numbering": 1,
   "nav_menu": {},
   "number_sections": true,
   "sideBar": true,
   "skip_h1_title": false,
   "title_cell": "Table of Contents",
   "title_sidebar": "Contents",
   "toc_cell": false,
   "toc_position": {},
   "toc_section_display": true,
   "toc_window_display": false
  }
 },
 "nbformat": 4,
 "nbformat_minor": 4
}